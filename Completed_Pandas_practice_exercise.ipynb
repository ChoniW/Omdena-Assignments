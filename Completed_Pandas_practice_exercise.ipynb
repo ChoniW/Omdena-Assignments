{
  "cells": [
    {
      "cell_type": "markdown",
      "metadata": {
        "id": "fVbYEMvbCQAS"
      },
      "source": [
        "![](../docs/banner.png)"
      ]
    },
    {
      "cell_type": "markdown",
      "metadata": {
        "id": "W8d0eU0mCQAT"
      },
      "source": [
        "# Pandas\n",
        "\n",
        "**Tomas Beuzen, September 2020**"
      ]
    },
    {
      "cell_type": "markdown",
      "metadata": {
        "id": "eAvu2R8vCQAT"
      },
      "source": [
        "These exercises complement [Chapter 7](../chapters/chapter7-pandas.ipynb)."
      ]
    },
    {
      "cell_type": "markdown",
      "metadata": {
        "id": "Qbv4FZnpCQAU"
      },
      "source": [
        "## Exercises"
      ]
    },
    {
      "cell_type": "markdown",
      "metadata": {
        "id": "0W4Id_lZCQAU"
      },
      "source": [
        "### 1."
      ]
    },
    {
      "cell_type": "markdown",
      "metadata": {
        "id": "ed_0LR3RCQAU"
      },
      "source": [
        "In this set of practice exercises we'll be investigating the carbon footprint of different foods. We'll be leveraging a dataset compiled by [Kasia Kulma](https://r-tastic.co.uk/post/from-messy-to-tidy/) and contributed to [R's Tidy Tuesday project](https://github.com/rfordatascience/tidytuesday).\n",
        "\n",
        "Start by importing pandas with the alias `pd`."
      ]
    },
    {
      "cell_type": "code",
      "execution_count": null,
      "metadata": {
        "id": "-wGbZgBzCQAU"
      },
      "outputs": [],
      "source": [
        "import pandas as pd"
      ]
    },
    {
      "cell_type": "markdown",
      "metadata": {
        "id": "_bpL6bf_CQAV"
      },
      "source": [
        "### 2."
      ]
    },
    {
      "cell_type": "markdown",
      "metadata": {
        "id": "C6xyHAD0CQAV"
      },
      "source": [
        "The dataset we'll be working with has the following columns:\n",
        "\n",
        "|column      |description |\n",
        "|:-------------|:-----------|\n",
        "|country       | Country Name |\n",
        "|food_category | Food Category |\n",
        "|consumption   | Consumption (kg/person/year) |\n",
        "|co2_emmission | Co2 Emission (Kg CO2/person/year) |\n",
        "\n",
        "\n",
        "Import the dataset as a dataframe named `df` from this url: <https://raw.githubusercontent.com/rfordatascience/tidytuesday/master/data/2020/2020-02-18/food_consumption.csv>"
      ]
    },
    {
      "cell_type": "code",
      "execution_count": null,
      "metadata": {
        "colab": {
          "base_uri": "https://localhost:8080/",
          "height": 206
        },
        "id": "qUawex1FCQAV",
        "outputId": "03a1f73a-1e25-49b9-926c-ce40c40ab0ab"
      },
      "outputs": [
        {
          "output_type": "execute_result",
          "data": {
            "text/plain": [
              "     country food_category  consumption  co2_emmission\n",
              "0  Argentina       Poultry        38.66          41.53\n",
              "1  Argentina          Beef        55.48        1712.00\n",
              "2  Argentina   Lamb & Goat         1.56          54.63\n",
              "3  Argentina          Fish         4.36           6.96\n",
              "4  Argentina          Eggs        11.39          10.46"
            ],
            "text/html": [
              "\n",
              "  <div id=\"df-f5316b16-ce07-4e80-b9e1-0a3499a373e6\">\n",
              "    <div class=\"colab-df-container\">\n",
              "      <div>\n",
              "<style scoped>\n",
              "    .dataframe tbody tr th:only-of-type {\n",
              "        vertical-align: middle;\n",
              "    }\n",
              "\n",
              "    .dataframe tbody tr th {\n",
              "        vertical-align: top;\n",
              "    }\n",
              "\n",
              "    .dataframe thead th {\n",
              "        text-align: right;\n",
              "    }\n",
              "</style>\n",
              "<table border=\"1\" class=\"dataframe\">\n",
              "  <thead>\n",
              "    <tr style=\"text-align: right;\">\n",
              "      <th></th>\n",
              "      <th>country</th>\n",
              "      <th>food_category</th>\n",
              "      <th>consumption</th>\n",
              "      <th>co2_emmission</th>\n",
              "    </tr>\n",
              "  </thead>\n",
              "  <tbody>\n",
              "    <tr>\n",
              "      <th>0</th>\n",
              "      <td>Argentina</td>\n",
              "      <td>Poultry</td>\n",
              "      <td>38.66</td>\n",
              "      <td>41.53</td>\n",
              "    </tr>\n",
              "    <tr>\n",
              "      <th>1</th>\n",
              "      <td>Argentina</td>\n",
              "      <td>Beef</td>\n",
              "      <td>55.48</td>\n",
              "      <td>1712.00</td>\n",
              "    </tr>\n",
              "    <tr>\n",
              "      <th>2</th>\n",
              "      <td>Argentina</td>\n",
              "      <td>Lamb &amp; Goat</td>\n",
              "      <td>1.56</td>\n",
              "      <td>54.63</td>\n",
              "    </tr>\n",
              "    <tr>\n",
              "      <th>3</th>\n",
              "      <td>Argentina</td>\n",
              "      <td>Fish</td>\n",
              "      <td>4.36</td>\n",
              "      <td>6.96</td>\n",
              "    </tr>\n",
              "    <tr>\n",
              "      <th>4</th>\n",
              "      <td>Argentina</td>\n",
              "      <td>Eggs</td>\n",
              "      <td>11.39</td>\n",
              "      <td>10.46</td>\n",
              "    </tr>\n",
              "  </tbody>\n",
              "</table>\n",
              "</div>\n",
              "      <button class=\"colab-df-convert\" onclick=\"convertToInteractive('df-f5316b16-ce07-4e80-b9e1-0a3499a373e6')\"\n",
              "              title=\"Convert this dataframe to an interactive table.\"\n",
              "              style=\"display:none;\">\n",
              "        \n",
              "  <svg xmlns=\"http://www.w3.org/2000/svg\" height=\"24px\"viewBox=\"0 0 24 24\"\n",
              "       width=\"24px\">\n",
              "    <path d=\"M0 0h24v24H0V0z\" fill=\"none\"/>\n",
              "    <path d=\"M18.56 5.44l.94 2.06.94-2.06 2.06-.94-2.06-.94-.94-2.06-.94 2.06-2.06.94zm-11 1L8.5 8.5l.94-2.06 2.06-.94-2.06-.94L8.5 2.5l-.94 2.06-2.06.94zm10 10l.94 2.06.94-2.06 2.06-.94-2.06-.94-.94-2.06-.94 2.06-2.06.94z\"/><path d=\"M17.41 7.96l-1.37-1.37c-.4-.4-.92-.59-1.43-.59-.52 0-1.04.2-1.43.59L10.3 9.45l-7.72 7.72c-.78.78-.78 2.05 0 2.83L4 21.41c.39.39.9.59 1.41.59.51 0 1.02-.2 1.41-.59l7.78-7.78 2.81-2.81c.8-.78.8-2.07 0-2.86zM5.41 20L4 18.59l7.72-7.72 1.47 1.35L5.41 20z\"/>\n",
              "  </svg>\n",
              "      </button>\n",
              "      \n",
              "  <style>\n",
              "    .colab-df-container {\n",
              "      display:flex;\n",
              "      flex-wrap:wrap;\n",
              "      gap: 12px;\n",
              "    }\n",
              "\n",
              "    .colab-df-convert {\n",
              "      background-color: #E8F0FE;\n",
              "      border: none;\n",
              "      border-radius: 50%;\n",
              "      cursor: pointer;\n",
              "      display: none;\n",
              "      fill: #1967D2;\n",
              "      height: 32px;\n",
              "      padding: 0 0 0 0;\n",
              "      width: 32px;\n",
              "    }\n",
              "\n",
              "    .colab-df-convert:hover {\n",
              "      background-color: #E2EBFA;\n",
              "      box-shadow: 0px 1px 2px rgba(60, 64, 67, 0.3), 0px 1px 3px 1px rgba(60, 64, 67, 0.15);\n",
              "      fill: #174EA6;\n",
              "    }\n",
              "\n",
              "    [theme=dark] .colab-df-convert {\n",
              "      background-color: #3B4455;\n",
              "      fill: #D2E3FC;\n",
              "    }\n",
              "\n",
              "    [theme=dark] .colab-df-convert:hover {\n",
              "      background-color: #434B5C;\n",
              "      box-shadow: 0px 1px 3px 1px rgba(0, 0, 0, 0.15);\n",
              "      filter: drop-shadow(0px 1px 2px rgba(0, 0, 0, 0.3));\n",
              "      fill: #FFFFFF;\n",
              "    }\n",
              "  </style>\n",
              "\n",
              "      <script>\n",
              "        const buttonEl =\n",
              "          document.querySelector('#df-f5316b16-ce07-4e80-b9e1-0a3499a373e6 button.colab-df-convert');\n",
              "        buttonEl.style.display =\n",
              "          google.colab.kernel.accessAllowed ? 'block' : 'none';\n",
              "\n",
              "        async function convertToInteractive(key) {\n",
              "          const element = document.querySelector('#df-f5316b16-ce07-4e80-b9e1-0a3499a373e6');\n",
              "          const dataTable =\n",
              "            await google.colab.kernel.invokeFunction('convertToInteractive',\n",
              "                                                     [key], {});\n",
              "          if (!dataTable) return;\n",
              "\n",
              "          const docLinkHtml = 'Like what you see? Visit the ' +\n",
              "            '<a target=\"_blank\" href=https://colab.research.google.com/notebooks/data_table.ipynb>data table notebook</a>'\n",
              "            + ' to learn more about interactive tables.';\n",
              "          element.innerHTML = '';\n",
              "          dataTable['output_type'] = 'display_data';\n",
              "          await google.colab.output.renderOutput(dataTable, element);\n",
              "          const docLink = document.createElement('div');\n",
              "          docLink.innerHTML = docLinkHtml;\n",
              "          element.appendChild(docLink);\n",
              "        }\n",
              "      </script>\n",
              "    </div>\n",
              "  </div>\n",
              "  "
            ]
          },
          "metadata": {},
          "execution_count": 20
        }
      ],
      "source": [
        "url = 'https://raw.githubusercontent.com/rfordatascience/tidytuesday/master/data/2020/2020-02-18/food_consumption.csv'\n",
        "df = pd.read_csv(url, skiprows=[1])\n",
        "# Print a few records of df\n",
        "df.head()"
      ]
    },
    {
      "cell_type": "markdown",
      "source": [
        ""
      ],
      "metadata": {
        "id": "C-3PVBxwyZxQ"
      }
    },
    {
      "cell_type": "markdown",
      "metadata": {
        "id": "rKAk2dCcCQAW"
      },
      "source": [
        "### 3."
      ]
    },
    {
      "cell_type": "markdown",
      "metadata": {
        "id": "K5UY67D5CQAW"
      },
      "source": [
        "How many rows and columns are there in the dataframe?"
      ]
    },
    {
      "cell_type": "code",
      "execution_count": null,
      "metadata": {
        "colab": {
          "base_uri": "https://localhost:8080/"
        },
        "id": "-6mOcbLvCQAW",
        "outputId": "aa747aef-cdff-4338-fca4-29c4ad89dfb9"
      },
      "outputs": [
        {
          "output_type": "execute_result",
          "data": {
            "text/plain": [
              "(1429, 4)"
            ]
          },
          "metadata": {},
          "execution_count": 4
        }
      ],
      "source": [
        "df.shape"
      ]
    },
    {
      "cell_type": "markdown",
      "source": [
        "There are 1429 rows and 4 columns."
      ],
      "metadata": {
        "id": "lCCi63a0ydr-"
      }
    },
    {
      "cell_type": "markdown",
      "metadata": {
        "id": "nzkfK4V5CQAW"
      },
      "source": [
        "### 4."
      ]
    },
    {
      "cell_type": "markdown",
      "metadata": {
        "id": "OxOBepKkCQAW"
      },
      "source": [
        "What is the type of data in each column of `df`?"
      ]
    },
    {
      "cell_type": "code",
      "execution_count": null,
      "metadata": {
        "colab": {
          "base_uri": "https://localhost:8080/"
        },
        "id": "BCZxpWiFCQAW",
        "outputId": "62f5c5a0-fc29-4b77-b360-8bea992cab24"
      },
      "outputs": [
        {
          "output_type": "execute_result",
          "data": {
            "text/plain": [
              "country           object\n",
              "food_category     object\n",
              "consumption      float64\n",
              "co2_emmission    float64\n",
              "dtype: object"
            ]
          },
          "metadata": {},
          "execution_count": 5
        }
      ],
      "source": [
        "df.dtypes"
      ]
    },
    {
      "cell_type": "markdown",
      "metadata": {
        "id": "KhBkhyqmCQAW"
      },
      "source": [
        "### 5."
      ]
    },
    {
      "cell_type": "markdown",
      "metadata": {
        "id": "h8GJMku3CQAX"
      },
      "source": [
        "What is the mean `co2_emission` of the whole dataset?"
      ]
    },
    {
      "cell_type": "code",
      "execution_count": null,
      "metadata": {
        "colab": {
          "base_uri": "https://localhost:8080/"
        },
        "id": "TRNvhax8CQAX",
        "outputId": "a721a841-2d34-4766-e227-c26cd419b9fd"
      },
      "outputs": [
        {
          "output_type": "stream",
          "name": "stderr",
          "text": [
            "/usr/local/lib/python3.7/dist-packages/ipykernel_launcher.py:1: FutureWarning: Dropping of nuisance columns in DataFrame reductions (with 'numeric_only=None') is deprecated; in a future version this will raise TypeError.  Select only valid columns before calling the reduction.\n",
            "  \"\"\"Entry point for launching an IPython kernel.\n"
          ]
        },
        {
          "output_type": "execute_result",
          "data": {
            "text/plain": [
              "consumption      28.122722\n",
              "co2_emmission    74.410014\n",
              "dtype: float64"
            ]
          },
          "metadata": {},
          "execution_count": 26
        }
      ],
      "source": [
        "df.mean()\n"
      ]
    },
    {
      "cell_type": "markdown",
      "source": [
        "Mean co2 emission of whole set is 74.41004\n"
      ],
      "metadata": {
        "id": "B7oD1ZIBE58R"
      }
    },
    {
      "cell_type": "markdown",
      "metadata": {
        "id": "vHIOTXGGCQAX"
      },
      "source": [
        "### 6."
      ]
    },
    {
      "cell_type": "markdown",
      "metadata": {
        "id": "rGaiXmsCCQAX"
      },
      "source": [
        "How many different kinds of foods are there in the dataset? How many countries are in the dataset?"
      ]
    },
    {
      "cell_type": "code",
      "execution_count": null,
      "metadata": {
        "colab": {
          "base_uri": "https://localhost:8080/"
        },
        "id": "uBcx-Xd-CQAX",
        "outputId": "dc4440db-0a7c-4958-87c7-d300d57e8ddb"
      },
      "outputs": [
        {
          "output_type": "stream",
          "name": "stdout",
          "text": [
            "There are 11 foods.\n",
            "There are 130 countries.\n"
          ]
        }
      ],
      "source": [
        "#df.food_category\n",
        "print(f\"There are {df['food_category'].nunique()} foods.\")\n",
        "print(f\"There are {df['country'].nunique()} countries.\")\n"
      ]
    },
    {
      "cell_type": "markdown",
      "metadata": {
        "id": "kP0M7iMQCQAY"
      },
      "source": [
        "### 7."
      ]
    },
    {
      "cell_type": "markdown",
      "metadata": {
        "id": "V17zp0xPCQAY"
      },
      "source": [
        "What is the maximum `co2_emmission` in the dataset and which food type and country does it belong to?"
      ]
    },
    {
      "cell_type": "code",
      "execution_count": null,
      "metadata": {
        "colab": {
          "base_uri": "https://localhost:8080/"
        },
        "id": "Eb2lOG65CQAY",
        "outputId": "65910680-4faa-4b0a-f29f-6569c593185f"
      },
      "outputs": [
        {
          "output_type": "execute_result",
          "data": {
            "text/plain": [
              "1712.0"
            ]
          },
          "metadata": {},
          "execution_count": 33
        }
      ],
      "source": [
        "df['co2_emmission'].max()\n"
      ]
    },
    {
      "cell_type": "markdown",
      "source": [
        "T"
      ],
      "metadata": {
        "id": "7bBUji5s2NYH"
      }
    },
    {
      "cell_type": "markdown",
      "source": [
        "The maximum co2_emmision in the dataset is 1712."
      ],
      "metadata": {
        "id": "ZTugSbPF2Nws"
      }
    },
    {
      "cell_type": "markdown",
      "metadata": {
        "id": "-NBdgM-zCQAY"
      },
      "source": [
        "### 8."
      ]
    },
    {
      "cell_type": "markdown",
      "metadata": {
        "id": "O0JY6OxFCQAY"
      },
      "source": [
        "How many countries produce more than 1000 Kg CO2/person/year for at least one food type?"
      ]
    },
    {
      "cell_type": "code",
      "execution_count": null,
      "metadata": {
        "colab": {
          "base_uri": "https://localhost:8080/"
        },
        "id": "J4tttIYgCQAY",
        "outputId": "de9fcdbe-cad7-49ba-89c4-cc5644c2d2b8"
      },
      "outputs": [
        {
          "output_type": "stream",
          "name": "stdout",
          "text": [
            "There are  5 countries producing more than 1000 Kg CO2/person/year for at least one food type.\n"
          ]
        }
      ],
      "source": [
        "df['co2_emmission'] = df['co2_emmission'].astype(int)\n",
        "df.co2_emmission.dtype\n",
        "df3=df[df['co2_emmission'] >1000]\n",
        "print(f'There are  {df3.country.nunique()} countries producing more than 1000 Kg CO2/person/year for at least one food type.')\n",
        "\n"
      ]
    },
    {
      "cell_type": "markdown",
      "metadata": {
        "id": "fFNjJ8uhCQAZ"
      },
      "source": [
        "### 9."
      ]
    },
    {
      "cell_type": "markdown",
      "metadata": {
        "id": "KDpgXx8nCQAZ"
      },
      "source": [
        "Which country consumes the least amount of beef per person per year?"
      ]
    },
    {
      "cell_type": "code",
      "execution_count": null,
      "metadata": {
        "colab": {
          "base_uri": "https://localhost:8080/"
        },
        "id": "gf6PL-lmCQAZ",
        "outputId": "b2eb7475-d7da-4c66-da65-598e94b9b1c5"
      },
      "outputs": [
        {
          "output_type": "stream",
          "name": "stdout",
          "text": [
            "      country food_category  consumption  co2_emmission\n",
            "1409  Liberia          Beef         0.78             24\n",
            "Liberia consumes the least amount of beef per person per year.\n"
          ]
        }
      ],
      "source": [
        "\n",
        "df4 = df[df['food_category'].str.contains('Beef')]\n",
        "#print(df4)\n",
        "df4['consumption'].min()\n",
        "print(df4[df4.consumption== df4.consumption.min()])\n",
        "print(f\"Liberia consumes the least amount of beef per person per year.\")\n"
      ]
    },
    {
      "cell_type": "markdown",
      "metadata": {
        "id": "ebThiqg8CQAZ"
      },
      "source": [
        "### 10."
      ]
    },
    {
      "cell_type": "markdown",
      "metadata": {
        "id": "DbDbhMb7CQAZ"
      },
      "source": [
        "Which country consumes the most amount of soybeans per person per year?"
      ]
    },
    {
      "cell_type": "code",
      "execution_count": null,
      "metadata": {
        "colab": {
          "base_uri": "https://localhost:8080/"
        },
        "id": "W_BQRk_HCQAZ",
        "outputId": "3635684a-9af5-4909-c333-f481ff406c31"
      },
      "outputs": [
        {
          "output_type": "stream",
          "name": "stdout",
          "text": [
            "          country food_category  consumption  co2_emmission\n",
            "1009  Taiwan. ROC      Soybeans        16.95              7\n",
            "Taiwan consumes the most amount of Soybeans per person per year.\n"
          ]
        }
      ],
      "source": [
        "\n",
        "df5 = df[df['food_category'].str.contains('Soybeans')]\n",
        "#print(df5)\n",
        "df5['consumption'].max()\n",
        "print(df5[df5.consumption== df5.consumption.max()])\n",
        "print(f\"Taiwan consumes the most amount of Soybeans per person per year.\")"
      ]
    },
    {
      "cell_type": "markdown",
      "metadata": {
        "id": "XlULaUiZCQAZ"
      },
      "source": [
        "### 11."
      ]
    },
    {
      "cell_type": "markdown",
      "metadata": {
        "id": "pABb3VneCQAZ"
      },
      "source": [
        "What is the total emissions of all the meat products (Pork, Poultry, Fish, Lamb & Goat, Beef) in the dataset combined?"
      ]
    },
    {
      "cell_type": "code",
      "execution_count": null,
      "metadata": {
        "colab": {
          "base_uri": "https://localhost:8080/"
        },
        "id": "bzwQKx86CQAa",
        "outputId": "53c6e5fb-cfd1-4501-da27-0233742b6bcf"
      },
      "outputs": [
        {
          "output_type": "execute_result",
          "data": {
            "text/plain": [
              "74075"
            ]
          },
          "metadata": {},
          "execution_count": 113
        }
      ],
      "source": [
        "df6= df[df['food_category'].str.contains(\"Pork|Poultry|Fish|Lamb|Goat|Beef\")]\n",
        "df6.shape\n",
        "df6.co2_emmission.sum()"
      ]
    },
    {
      "cell_type": "markdown",
      "metadata": {
        "id": "F9utQbgZCQAa"
      },
      "source": [
        "### 12."
      ]
    },
    {
      "cell_type": "markdown",
      "metadata": {
        "id": "hS3yw6glCQAa"
      },
      "source": [
        "What is the total emissions of all other (non-meat) products in the dataset combined?"
      ]
    },
    {
      "cell_type": "code",
      "execution_count": null,
      "metadata": {
        "colab": {
          "base_uri": "https://localhost:8080/"
        },
        "id": "bDd92yOYCQAa",
        "outputId": "b889c02e-f447-4207-9849-dcacdc3c8499"
      },
      "outputs": [
        {
          "output_type": "execute_result",
          "data": {
            "text/plain": [
              "105658"
            ]
          },
          "metadata": {},
          "execution_count": 122
        }
      ],
      "source": [
        "#df['food_category'].unique()\n",
        "df7 = df[df.food_category != \"Pork|Poultry|Fish|Lamb|Goat|Beef\"]\n",
        "df7.shape\n",
        "df7.co2_emmission.sum()\n"
      ]
    },
    {
      "cell_type": "markdown",
      "metadata": {
        "id": "tATcVwYRCQAa"
      },
      "source": [
        "<hr>\n",
        "<hr>\n",
        "<hr>"
      ]
    },
    {
      "cell_type": "markdown",
      "metadata": {
        "id": "B7YOfAvgCQAa"
      },
      "source": [
        "## Solutions"
      ]
    },
    {
      "cell_type": "markdown",
      "metadata": {
        "id": "hXqwXeVvCQAa"
      },
      "source": [
        "### 1."
      ]
    },
    {
      "cell_type": "markdown",
      "metadata": {
        "id": "JOXQoDfBCQAa"
      },
      "source": [
        "In this set of practice exercises we'll be investigating the carbon footprint of different foods. We'll be leveraging a dataset compiled by [Kasia Kulma](https://r-tastic.co.uk/post/from-messy-to-tidy/) and contributed to [R's Tidy Tuesday project](https://github.com/rfordatascience/tidytuesday).\n",
        "\n",
        "Start by importing pandas with the alias `pd`."
      ]
    },
    {
      "cell_type": "code",
      "execution_count": null,
      "metadata": {
        "id": "uU9E9L-3CQAb"
      },
      "outputs": [],
      "source": [
        "import pandas as pd"
      ]
    },
    {
      "cell_type": "markdown",
      "metadata": {
        "id": "Ygm41tSoCQAb"
      },
      "source": [
        "### 2."
      ]
    },
    {
      "cell_type": "markdown",
      "metadata": {
        "id": "ED6fWBHTCQAb"
      },
      "source": [
        "The dataset we'll be working with has the following columns:\n",
        "\n",
        "|column      |description |\n",
        "|:-------------|:-----------|\n",
        "|country       | Country Name |\n",
        "|food_category | Food Category |\n",
        "|consumption   | Consumption (kg/person/year) |\n",
        "|co2_emmission | Co2 Emission (Kg CO2/person/year) |\n",
        "\n",
        "\n",
        "Import the dataset as a dataframe named `df` from this url: <https://raw.githubusercontent.com/rfordatascience/tidytuesday/master/data/2020/2020-02-18/food_consumption.csv>"
      ]
    },
    {
      "cell_type": "code",
      "execution_count": null,
      "metadata": {
        "id": "5jCbvn_XCQAb",
        "outputId": "698463f7-1b67-4173-ce01-12465ea68742"
      },
      "outputs": [
        {
          "data": {
            "text/html": [
              "<div>\n",
              "<style scoped>\n",
              "    .dataframe tbody tr th:only-of-type {\n",
              "        vertical-align: middle;\n",
              "    }\n",
              "\n",
              "    .dataframe tbody tr th {\n",
              "        vertical-align: top;\n",
              "    }\n",
              "\n",
              "    .dataframe thead th {\n",
              "        text-align: right;\n",
              "    }\n",
              "</style>\n",
              "<table border=\"1\" class=\"dataframe\">\n",
              "  <thead>\n",
              "    <tr style=\"text-align: right;\">\n",
              "      <th></th>\n",
              "      <th>country</th>\n",
              "      <th>food_category</th>\n",
              "      <th>consumption</th>\n",
              "      <th>co2_emmission</th>\n",
              "    </tr>\n",
              "  </thead>\n",
              "  <tbody>\n",
              "    <tr>\n",
              "      <th>0</th>\n",
              "      <td>Argentina</td>\n",
              "      <td>Pork</td>\n",
              "      <td>10.51</td>\n",
              "      <td>37.20</td>\n",
              "    </tr>\n",
              "    <tr>\n",
              "      <th>1</th>\n",
              "      <td>Argentina</td>\n",
              "      <td>Poultry</td>\n",
              "      <td>38.66</td>\n",
              "      <td>41.53</td>\n",
              "    </tr>\n",
              "    <tr>\n",
              "      <th>2</th>\n",
              "      <td>Argentina</td>\n",
              "      <td>Beef</td>\n",
              "      <td>55.48</td>\n",
              "      <td>1712.00</td>\n",
              "    </tr>\n",
              "    <tr>\n",
              "      <th>3</th>\n",
              "      <td>Argentina</td>\n",
              "      <td>Lamb &amp; Goat</td>\n",
              "      <td>1.56</td>\n",
              "      <td>54.63</td>\n",
              "    </tr>\n",
              "    <tr>\n",
              "      <th>4</th>\n",
              "      <td>Argentina</td>\n",
              "      <td>Fish</td>\n",
              "      <td>4.36</td>\n",
              "      <td>6.96</td>\n",
              "    </tr>\n",
              "    <tr>\n",
              "      <th>...</th>\n",
              "      <td>...</td>\n",
              "      <td>...</td>\n",
              "      <td>...</td>\n",
              "      <td>...</td>\n",
              "    </tr>\n",
              "    <tr>\n",
              "      <th>1425</th>\n",
              "      <td>Bangladesh</td>\n",
              "      <td>Milk - inc. cheese</td>\n",
              "      <td>21.91</td>\n",
              "      <td>31.21</td>\n",
              "    </tr>\n",
              "    <tr>\n",
              "      <th>1426</th>\n",
              "      <td>Bangladesh</td>\n",
              "      <td>Wheat and Wheat Products</td>\n",
              "      <td>17.47</td>\n",
              "      <td>3.33</td>\n",
              "    </tr>\n",
              "    <tr>\n",
              "      <th>1427</th>\n",
              "      <td>Bangladesh</td>\n",
              "      <td>Rice</td>\n",
              "      <td>171.73</td>\n",
              "      <td>219.76</td>\n",
              "    </tr>\n",
              "    <tr>\n",
              "      <th>1428</th>\n",
              "      <td>Bangladesh</td>\n",
              "      <td>Soybeans</td>\n",
              "      <td>0.61</td>\n",
              "      <td>0.27</td>\n",
              "    </tr>\n",
              "    <tr>\n",
              "      <th>1429</th>\n",
              "      <td>Bangladesh</td>\n",
              "      <td>Nuts inc. Peanut Butter</td>\n",
              "      <td>0.72</td>\n",
              "      <td>1.27</td>\n",
              "    </tr>\n",
              "  </tbody>\n",
              "</table>\n",
              "<p>1430 rows × 4 columns</p>\n",
              "</div>"
            ],
            "text/plain": [
              "         country             food_category  consumption  co2_emmission\n",
              "0      Argentina                      Pork        10.51          37.20\n",
              "1      Argentina                   Poultry        38.66          41.53\n",
              "2      Argentina                      Beef        55.48        1712.00\n",
              "3      Argentina               Lamb & Goat         1.56          54.63\n",
              "4      Argentina                      Fish         4.36           6.96\n",
              "...          ...                       ...          ...            ...\n",
              "1425  Bangladesh        Milk - inc. cheese        21.91          31.21\n",
              "1426  Bangladesh  Wheat and Wheat Products        17.47           3.33\n",
              "1427  Bangladesh                      Rice       171.73         219.76\n",
              "1428  Bangladesh                  Soybeans         0.61           0.27\n",
              "1429  Bangladesh   Nuts inc. Peanut Butter         0.72           1.27\n",
              "\n",
              "[1430 rows x 4 columns]"
            ]
          },
          "execution_count": 3,
          "metadata": {},
          "output_type": "execute_result"
        }
      ],
      "source": [
        "url = \"https://raw.githubusercontent.com/rfordatascience/tidytuesday/master/data/2020/2020-02-18/food_consumption.csv\"\n",
        "df = pd.read_csv(url)\n",
        "df"
      ]
    },
    {
      "cell_type": "markdown",
      "metadata": {
        "id": "4YB45gmyCQAc"
      },
      "source": [
        "### 3."
      ]
    },
    {
      "cell_type": "markdown",
      "metadata": {
        "id": "_9ydycEaCQAc"
      },
      "source": [
        "How many rows and columns are there in the dataframe?"
      ]
    },
    {
      "cell_type": "code",
      "execution_count": null,
      "metadata": {
        "id": "LM1KoQGrCQAc",
        "outputId": "879910ba-490c-43a2-8e93-b4141f6b4543"
      },
      "outputs": [
        {
          "data": {
            "text/plain": [
              "(1430, 4)"
            ]
          },
          "execution_count": 4,
          "metadata": {},
          "output_type": "execute_result"
        }
      ],
      "source": [
        "df.shape"
      ]
    },
    {
      "cell_type": "markdown",
      "metadata": {
        "id": "-fzqTR4ECQAc"
      },
      "source": [
        "### 4."
      ]
    },
    {
      "cell_type": "markdown",
      "metadata": {
        "id": "_VUwlX1YCQAc"
      },
      "source": [
        "What is the type of data in each column of `df`?"
      ]
    },
    {
      "cell_type": "code",
      "execution_count": null,
      "metadata": {
        "id": "Z1p6hyHDCQAc",
        "outputId": "291a07bf-e314-4542-eda2-465f1307d143"
      },
      "outputs": [
        {
          "name": "stdout",
          "output_type": "stream",
          "text": [
            "<class 'pandas.core.frame.DataFrame'>\n",
            "RangeIndex: 1430 entries, 0 to 1429\n",
            "Data columns (total 4 columns):\n",
            " #   Column         Non-Null Count  Dtype  \n",
            "---  ------         --------------  -----  \n",
            " 0   country        1430 non-null   object \n",
            " 1   food_category  1430 non-null   object \n",
            " 2   consumption    1430 non-null   float64\n",
            " 3   co2_emmission  1430 non-null   float64\n",
            "dtypes: float64(2), object(2)\n",
            "memory usage: 44.8+ KB\n"
          ]
        }
      ],
      "source": [
        "df.info()"
      ]
    },
    {
      "cell_type": "markdown",
      "metadata": {
        "id": "sSO81Q0bCQAc"
      },
      "source": [
        "### 5."
      ]
    },
    {
      "cell_type": "markdown",
      "metadata": {
        "id": "2mX2GeVkCQAd"
      },
      "source": [
        "What is the mean `co2_emission` of the whole dataset?"
      ]
    },
    {
      "cell_type": "code",
      "execution_count": null,
      "metadata": {
        "tags": [
          "raises-exception"
        ],
        "id": "Fn6z-1qVCQAd",
        "outputId": "b9423995-3afd-4681-943e-cedc690cbb9b"
      },
      "outputs": [
        {
          "data": {
            "text/plain": [
              "74.383993006993"
            ]
          },
          "execution_count": 7,
          "metadata": {},
          "output_type": "execute_result"
        }
      ],
      "source": [
        "df[\"co2_emmission\"].mean()"
      ]
    },
    {
      "cell_type": "markdown",
      "metadata": {
        "id": "2zLkV9TLCQAd"
      },
      "source": [
        "### 6."
      ]
    },
    {
      "cell_type": "markdown",
      "metadata": {
        "id": "Tzdxr0k9CQAd"
      },
      "source": [
        "How many different kinds of foods are there in the dataset? How many countries are in the dataset?"
      ]
    },
    {
      "cell_type": "code",
      "execution_count": null,
      "metadata": {
        "id": "Ldn1gGbdCQAd",
        "outputId": "529e0030-7125-47b0-ea08-0774f3cd5caf"
      },
      "outputs": [
        {
          "name": "stdout",
          "output_type": "stream",
          "text": [
            "There are 11 foods.\n",
            "There are 130 countries.\n"
          ]
        }
      ],
      "source": [
        "print(f\"There are {df['food_category'].nunique()} foods.\")\n",
        "print(f\"There are {df['country'].nunique()} countries.\")"
      ]
    },
    {
      "cell_type": "markdown",
      "metadata": {
        "id": "75tA9ieDCQAd"
      },
      "source": [
        "### 7."
      ]
    },
    {
      "cell_type": "markdown",
      "metadata": {
        "id": "vzdywLdkCQAd"
      },
      "source": [
        "What is the maximum `co2_emmission` in the dataset and which food type and country does it belong to?"
      ]
    },
    {
      "cell_type": "code",
      "execution_count": null,
      "metadata": {
        "id": "sjuPsZ_WCQAe",
        "outputId": "5bf6f832-1d57-468e-923e-50db6cbdc217"
      },
      "outputs": [
        {
          "data": {
            "text/plain": [
              "country          Argentina\n",
              "food_category         Beef\n",
              "consumption          55.48\n",
              "co2_emmission         1712\n",
              "Name: 2, dtype: object"
            ]
          },
          "execution_count": 46,
          "metadata": {},
          "output_type": "execute_result"
        }
      ],
      "source": [
        "df.iloc[df['co2_emmission'].idxmax()]"
      ]
    },
    {
      "cell_type": "markdown",
      "metadata": {
        "id": "Wyyvr7kICQAe"
      },
      "source": [
        "### 8."
      ]
    }
  ],
  "metadata": {
    "kernelspec": {
      "display_name": "Python 3 (ipykernel)",
      "language": "python",
      "name": "python3"
    },
    "language_info": {
      "codemirror_mode": {
        "name": "ipython",
        "version": 3
      },
      "file_extension": ".py",
      "mimetype": "text/x-python",
      "name": "python",
      "nbconvert_exporter": "python",
      "pygments_lexer": "ipython3",
      "version": "3.9.7"
    },
    "colab": {
      "name": "Completed Pandas-practice_exercise.ipynb",
      "provenance": []
    }
  },
  "nbformat": 4,
  "nbformat_minor": 0
}