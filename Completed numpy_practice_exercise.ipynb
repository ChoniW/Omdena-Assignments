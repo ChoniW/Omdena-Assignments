{
  "cells": [
    {
      "cell_type": "markdown",
      "metadata": {
        "id": "EMxcdVLvAeIC"
      },
      "source": [
        "![](../docs/banner.png)"
      ]
    },
    {
      "cell_type": "markdown",
      "metadata": {
        "id": "1hJdIe5iAeIJ"
      },
      "source": [
        "# NumPy\n"
      ]
    },
    {
      "cell_type": "markdown",
      "metadata": {
        "id": "EjPeDhq8AeIJ"
      },
      "source": [
        "## Exercises"
      ]
    },
    {
      "cell_type": "markdown",
      "metadata": {
        "id": "wkwITsmcAeIK"
      },
      "source": [
        "### 1."
      ]
    },
    {
      "cell_type": "markdown",
      "metadata": {
        "id": "iY9lLXLEAeIL"
      },
      "source": [
        "Import numpy under the alias `np`."
      ]
    },
    {
      "cell_type": "code",
      "execution_count": 23,
      "metadata": {
        "id": "5_asFbNqAeIM"
      },
      "outputs": [],
      "source": [
        "import numpy as np\n"
      ]
    },
    {
      "cell_type": "markdown",
      "metadata": {
        "id": "hazfeZPXAeIO"
      },
      "source": [
        "### 2."
      ]
    },
    {
      "cell_type": "markdown",
      "metadata": {
        "id": "XKqnIsezAeIP"
      },
      "source": [
        "Create the following arrays:\n",
        "\n",
        "1. Create an array of 5 zeros.\n",
        "2. Create an array of 10 ones.\n",
        "3. Create an array of 5 3.141s.\n",
        "4. Create an array of the integers 1 to 20.\n",
        "5. Create a 5 x 5 matrix of ones with a dtype `int`."
      ]
    },
    {
      "cell_type": "code",
      "execution_count": 2,
      "metadata": {
        "colab": {
          "base_uri": "https://localhost:8080/"
        },
        "id": "WpmJa0vMAeIQ",
        "outputId": "8383af04-b457-43d1-b46e-e1593b615626"
      },
      "outputs": [
        {
          "output_type": "execute_result",
          "data": {
            "text/plain": [
              "list"
            ]
          },
          "metadata": {},
          "execution_count": 2
        }
      ],
      "source": [
        "x= [0,0,0,0,0]\n",
        "type(x)"
      ]
    },
    {
      "cell_type": "markdown",
      "metadata": {
        "id": "QV1EXLaKAeIR"
      },
      "source": [
        "### 3."
      ]
    },
    {
      "cell_type": "markdown",
      "metadata": {
        "id": "IyY7wldhAeIR"
      },
      "source": [
        "Use numpy to:\n",
        "1. Create an 3D matrix of 3 x 3 x 3 full of random numbers drawn from a standard normal distribution (hint: `np.random.randn()`)\n",
        "2. Reshape the above array into shape (27,)"
      ]
    },
    {
      "cell_type": "code",
      "execution_count": 13,
      "metadata": {
        "colab": {
          "base_uri": "https://localhost:8080/"
        },
        "id": "BhwtImrRAeIS",
        "outputId": "7c2d149c-8ab2-413a-e375-f69f5abac9ba"
      },
      "outputs": [
        {
          "output_type": "stream",
          "name": "stdout",
          "text": [
            "[[[0.26469632 0.29653007 0.47922026]\n",
            "  [0.04676102 0.42643872 0.73267623]\n",
            "  [0.62224676 0.11403406 0.71339784]]\n",
            "\n",
            " [[0.75013853 0.14852992 0.50867735]\n",
            "  [0.23537951 0.69868628 0.58445974]\n",
            "  [0.30684928 0.14913194 0.62258689]]\n",
            "\n",
            " [[0.88108209 0.92330415 0.11576304]\n",
            "  [0.40851252 0.97149025 0.26791774]\n",
            "  [0.4123977  0.84572018 0.16996441]]]\n"
          ]
        },
        {
          "output_type": "execute_result",
          "data": {
            "text/plain": [
              "array([0.26469632, 0.29653007, 0.47922026, 0.04676102, 0.42643872,\n",
              "       0.73267623, 0.62224676, 0.11403406, 0.71339784, 0.75013853,\n",
              "       0.14852992, 0.50867735, 0.23537951, 0.69868628, 0.58445974,\n",
              "       0.30684928, 0.14913194, 0.62258689, 0.88108209, 0.92330415,\n",
              "       0.11576304, 0.40851252, 0.97149025, 0.26791774, 0.4123977 ,\n",
              "       0.84572018, 0.16996441])"
            ]
          },
          "metadata": {},
          "execution_count": 13
        }
      ],
      "source": [
        "y=np.random.rand(3,3,3)\n",
        "print(y)\n",
        "y.reshape(27,) "
      ]
    },
    {
      "cell_type": "markdown",
      "metadata": {
        "id": "a-n7QPQgAeIS"
      },
      "source": [
        "### 4."
      ]
    },
    {
      "cell_type": "markdown",
      "metadata": {
        "id": "51iEMlr1AeIT"
      },
      "source": [
        "Create an array of 20 linearly spaced numbers between 1 and 10."
      ]
    },
    {
      "cell_type": "code",
      "execution_count": 14,
      "metadata": {
        "colab": {
          "base_uri": "https://localhost:8080/"
        },
        "id": "O-hf3RcKAeIT",
        "outputId": "e4bd95de-b2d9-4e18-8f68-58830476eea0"
      },
      "outputs": [
        {
          "output_type": "stream",
          "name": "stdout",
          "text": [
            "[ 1.          1.47368421  1.94736842  2.42105263  2.89473684  3.36842105\n",
            "  3.84210526  4.31578947  4.78947368  5.26315789  5.73684211  6.21052632\n",
            "  6.68421053  7.15789474  7.63157895  8.10526316  8.57894737  9.05263158\n",
            "  9.52631579 10.        ]\n"
          ]
        }
      ],
      "source": [
        "num_line = np.linspace(1,10,20)\n",
        "print(num_line)\n"
      ]
    },
    {
      "cell_type": "markdown",
      "metadata": {
        "id": "yABPOb0DAeIT"
      },
      "source": [
        "### 5."
      ]
    },
    {
      "cell_type": "markdown",
      "metadata": {
        "id": "puBF3Cn8AeIU"
      },
      "source": [
        "Run the following code to create an array of shape 4 x 4 and then use indexing to produce the outputs shown below."
      ]
    },
    {
      "cell_type": "code",
      "execution_count": 24,
      "metadata": {
        "colab": {
          "base_uri": "https://localhost:8080/"
        },
        "id": "n_My0bk8AeIU",
        "outputId": "acc0ba61-18ca-4149-ff93-747e5713c049"
      },
      "outputs": [
        {
          "output_type": "stream",
          "name": "stdout",
          "text": [
            "[[ 1  2  3  4  5]\n",
            " [ 6  7  8  9 10]\n",
            " [11 12 13 14 15]\n",
            " [16 17 18 19 20]\n",
            " [21 22 23 24 25]]\n"
          ]
        }
      ],
      "source": [
        "import numpy as np\n",
        "a = np.arange(1, 26).reshape(5, -1)\n",
        "print(a)"
      ]
    },
    {
      "cell_type": "markdown",
      "metadata": {
        "id": "adVQ1IqpAeIV"
      },
      "source": [
        "```python\n",
        "20\n",
        "```"
      ]
    },
    {
      "cell_type": "markdown",
      "metadata": {
        "id": "gJuuZMmeAeIV"
      },
      "source": [
        "```python\n",
        "array([[ 9, 10],\n",
        "       [14, 15],\n",
        "       [19, 20],\n",
        "       [24, 25]])\n",
        "```"
      ]
    },
    {
      "cell_type": "code",
      "execution_count": 30,
      "metadata": {
        "colab": {
          "base_uri": "https://localhost:8080/"
        },
        "id": "QNMRPgo0AeIW",
        "outputId": "d0e7cc55-bcd8-4399-9a02-b2bf283eca50"
      },
      "outputs": [
        {
          "output_type": "execute_result",
          "data": {
            "text/plain": [
              "array([[ 9, 10],\n",
              "       [14, 15],\n",
              "       [19, 20],\n",
              "       [24, 25]])"
            ]
          },
          "metadata": {},
          "execution_count": 30
        }
      ],
      "source": [
        "a[1: , 3:]"
      ]
    },
    {
      "cell_type": "markdown",
      "metadata": {
        "id": "-jaeGMV2AeIW"
      },
      "source": [
        "```python\n",
        "array([ 6,  7,  8,  9, 10])\n",
        "```"
      ]
    },
    {
      "cell_type": "code",
      "execution_count": 31,
      "metadata": {
        "colab": {
          "base_uri": "https://localhost:8080/"
        },
        "id": "IcBUy8hwAeIW",
        "outputId": "dd332aeb-5eaa-45b6-9b3b-8a194e818766"
      },
      "outputs": [
        {
          "output_type": "execute_result",
          "data": {
            "text/plain": [
              "array([ 6,  7,  8,  9, 10])"
            ]
          },
          "metadata": {},
          "execution_count": 31
        }
      ],
      "source": [
        "a[1, :]"
      ]
    },
    {
      "cell_type": "markdown",
      "metadata": {
        "id": "0tYKbfDwAeIX"
      },
      "source": [
        "```python\n",
        "array([[11, 12, 13, 14, 15],\n",
        "       [16, 17, 18, 19, 20]])\n",
        "```"
      ]
    },
    {
      "cell_type": "code",
      "execution_count": 33,
      "metadata": {
        "colab": {
          "base_uri": "https://localhost:8080/"
        },
        "id": "xnt88oM8AeIX",
        "outputId": "21c9b06b-2121-4298-f9a1-a26b6b4360b1"
      },
      "outputs": [
        {
          "output_type": "execute_result",
          "data": {
            "text/plain": [
              "array([[11, 12, 13, 14, 15],\n",
              "       [16, 17, 18, 19, 20]])"
            ]
          },
          "metadata": {},
          "execution_count": 33
        }
      ],
      "source": [
        "a[2:4, :]"
      ]
    },
    {
      "cell_type": "markdown",
      "metadata": {
        "id": "S5pqyifLAeIX"
      },
      "source": [
        "```python\n",
        "array([[ 8,  9],\n",
        "       [13, 14]])\n",
        "```"
      ]
    },
    {
      "cell_type": "code",
      "execution_count": 36,
      "metadata": {
        "colab": {
          "base_uri": "https://localhost:8080/"
        },
        "id": "zbwf8x5GAeIX",
        "outputId": "1c1c1190-c39c-411d-a371-e55c41391a63"
      },
      "outputs": [
        {
          "output_type": "execute_result",
          "data": {
            "text/plain": [
              "array([[ 8,  9],\n",
              "       [13, 14]])"
            ]
          },
          "metadata": {},
          "execution_count": 36
        }
      ],
      "source": [
        "a[1:3, 2:4]"
      ]
    },
    {
      "cell_type": "markdown",
      "metadata": {
        "id": "HeG4CPglAeIY"
      },
      "source": [
        "### 6."
      ]
    },
    {
      "cell_type": "markdown",
      "metadata": {
        "id": "gtWDRnhSAeIY"
      },
      "source": [
        "Calculate the sum of all the numbers in `a`."
      ]
    },
    {
      "cell_type": "code",
      "execution_count": 37,
      "metadata": {
        "colab": {
          "base_uri": "https://localhost:8080/"
        },
        "id": "zJeY7JB_AeIY",
        "outputId": "e3896d7b-8c2d-42fe-840f-9759af35877e"
      },
      "outputs": [
        {
          "output_type": "execute_result",
          "data": {
            "text/plain": [
              "325"
            ]
          },
          "metadata": {},
          "execution_count": 37
        }
      ],
      "source": [
        "np.sum(a)"
      ]
    },
    {
      "cell_type": "markdown",
      "metadata": {
        "id": "m9gY3dobAeIY"
      },
      "source": [
        "### 7."
      ]
    },
    {
      "cell_type": "markdown",
      "metadata": {
        "id": "mzLV1fyzAeIY"
      },
      "source": [
        "Calculate the sum of each row in `a`."
      ]
    },
    {
      "cell_type": "code",
      "execution_count": 39,
      "metadata": {
        "colab": {
          "base_uri": "https://localhost:8080/"
        },
        "id": "k0mdg0TVAeIY",
        "outputId": "44c99f88-08bc-4cfd-b44b-432574ad8a77"
      },
      "outputs": [
        {
          "output_type": "stream",
          "name": "stdout",
          "text": [
            "[ 15  40  65  90 115]\n"
          ]
        }
      ],
      "source": [
        "row_sums = a.sum(axis=1)\n",
        "print(row_sums)"
      ]
    },
    {
      "cell_type": "markdown",
      "metadata": {
        "id": "6M17DXeOAeIZ"
      },
      "source": [
        "### 8."
      ]
    },
    {
      "cell_type": "markdown",
      "metadata": {
        "id": "95I0vKnoAeIZ"
      },
      "source": [
        "Extract all values of `a` greater than the mean of `a` (hint: use a boolean mask)."
      ]
    },
    {
      "cell_type": "code",
      "execution_count": 42,
      "metadata": {
        "colab": {
          "base_uri": "https://localhost:8080/"
        },
        "id": "pL5pU3FiAeIZ",
        "outputId": "4a068184-caa7-4cda-d2cc-89e857b32d4f"
      },
      "outputs": [
        {
          "output_type": "stream",
          "name": "stdout",
          "text": [
            "[14 15 16 17 18 19 20 21 22 23 24 25]\n"
          ]
        }
      ],
      "source": [
        "a.mean()\n",
        "print(a [a>13])"
      ]
    },
    {
      "cell_type": "markdown",
      "metadata": {
        "id": "UPbelAf5AeIZ"
      },
      "source": [
        "### 9."
      ]
    },
    {
      "cell_type": "markdown",
      "metadata": {
        "id": "eyo-DFdtAeIZ"
      },
      "source": [
        "Find the location of the minimum value in the following array `b`:"
      ]
    },
    {
      "cell_type": "code",
      "execution_count": 49,
      "metadata": {
        "colab": {
          "base_uri": "https://localhost:8080/"
        },
        "id": "wqvriMWGAeIa",
        "outputId": "33ec9573-68a8-4dc3-bb42-5ce84418a6b8"
      },
      "outputs": [
        {
          "output_type": "execute_result",
          "data": {
            "text/plain": [
              "array([-1.0856306 ,  0.99734545,  0.2829785 , -1.50629471, -0.57860025,\n",
              "        1.65143654, -2.42667924, -0.42891263,  1.26593626, -0.8667404 ])"
            ]
          },
          "metadata": {},
          "execution_count": 49
        }
      ],
      "source": [
        "np.random.seed(123)\n",
        "b = np.random.randn(10)\n",
        "b"
      ]
    },
    {
      "cell_type": "code",
      "execution_count": 52,
      "metadata": {
        "colab": {
          "base_uri": "https://localhost:8080/"
        },
        "id": "-ApECnyxAeIb",
        "outputId": "3e45fc0f-aa39-4aa2-94a2-7ab463c1f03d"
      },
      "outputs": [
        {
          "output_type": "execute_result",
          "data": {
            "text/plain": [
              "(array([6]),)"
            ]
          },
          "metadata": {},
          "execution_count": 52
        }
      ],
      "source": [
        "\n",
        "loc_min = np.where(b == b.min())\n",
        "loc_min\n"
      ]
    },
    {
      "cell_type": "markdown",
      "metadata": {
        "id": "tWsSEE1cAeIb"
      },
      "source": [
        "### 10."
      ]
    },
    {
      "cell_type": "markdown",
      "metadata": {
        "id": "h_75hk1pAeIb"
      },
      "source": [
        "Find the location of the maximum value in the following 2D array `c` (hint: there are many ways to do this question, but a quick search on stackoverflow.com will typically help you find the optimum solution for a problem, for example see [post](https://stackoverflow.com/questions/3584243/get-the-position-of-the-biggest-item-in-a-multi-dimensional-numpy-array)):"
      ]
    },
    {
      "cell_type": "code",
      "execution_count": 57,
      "metadata": {
        "colab": {
          "base_uri": "https://localhost:8080/"
        },
        "id": "qD_hl0unAeIc",
        "outputId": "5a683ad7-5cf2-4339-a656-94b2a8c40b79"
      },
      "outputs": [
        {
          "output_type": "execute_result",
          "data": {
            "text/plain": [
              "array([[-1.0856306 ,  0.99734545],\n",
              "       [ 0.2829785 , -1.50629471],\n",
              "       [-0.57860025,  1.65143654]])"
            ]
          },
          "metadata": {},
          "execution_count": 57
        }
      ],
      "source": [
        "np.random.seed(123)\n",
        "c = np.random.randn(3, 2)\n",
        "c"
      ]
    },
    {
      "cell_type": "code",
      "execution_count": 65,
      "metadata": {
        "colab": {
          "base_uri": "https://localhost:8080/"
        },
        "id": "ShxpI4zLAeIc",
        "outputId": "5a753993-6e78-4e4e-c80a-25822599fb59"
      },
      "outputs": [
        {
          "output_type": "execute_result",
          "data": {
            "text/plain": [
              "(array([2]), array([1]))"
            ]
          },
          "metadata": {},
          "execution_count": 65
        }
      ],
      "source": [
        "\n",
        "indices = np.where(c == c.max())\n",
        "indices"
      ]
    },
    {
      "cell_type": "markdown",
      "metadata": {
        "id": "Q0mi5DRmAeId"
      },
      "source": [
        "<hr>\n",
        "<hr>\n",
        "<hr>"
      ]
    }
  ],
  "metadata": {
    "kernelspec": {
      "display_name": "Python 3 (ipykernel)",
      "language": "python",
      "name": "python3"
    },
    "language_info": {
      "codemirror_mode": {
        "name": "ipython",
        "version": 3
      },
      "file_extension": ".py",
      "mimetype": "text/x-python",
      "name": "python",
      "nbconvert_exporter": "python",
      "pygments_lexer": "ipython3",
      "version": "3.9.7"
    },
    "colab": {
      "name": "numpy-practice-exercise.ipynb",
      "provenance": []
    }
  },
  "nbformat": 4,
  "nbformat_minor": 0
}